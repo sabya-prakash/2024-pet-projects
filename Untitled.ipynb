{
 "cells": [
  {
   "cell_type": "code",
   "execution_count": 1,
   "id": "f4c90c7a",
   "metadata": {},
   "outputs": [
    {
     "name": "stderr",
     "output_type": "stream",
     "text": [
      "C:\\Users\\sabya\\anaconda3\\lib\\site-packages\\yfinance\\base.py:48: FutureWarning: The default dtype for empty Series will be 'object' instead of 'float64' in a future version. Specify a dtype explicitly to silence this warning.\n",
      "  _empty_series = pd.Series()\n"
     ]
    }
   ],
   "source": [
    "import yfinance as yahooFinance"
   ]
  },
  {
   "cell_type": "code",
   "execution_count": 2,
   "id": "117a8bd0",
   "metadata": {},
   "outputs": [],
   "source": [
    "GetFacebookInformation = yahooFinance.Ticker(\"META\")"
   ]
  },
  {
   "cell_type": "code",
   "execution_count": 3,
   "id": "70a547bc",
   "metadata": {},
   "outputs": [
    {
     "name": "stdout",
     "output_type": "stream",
     "text": [
      "{'address1': '1 Meta Way', 'city': 'Menlo Park', 'state': 'CA', 'zip': '94025', 'country': 'United States', 'phone': '650 543 4800', 'website': 'https://investor.fb.com', 'industry': 'Internet Content & Information', 'industryKey': 'internet-content-information', 'industryDisp': 'Internet Content & Information', 'sector': 'Communication Services', 'sectorKey': 'communication-services', 'sectorDisp': 'Communication Services', 'longBusinessSummary': 'Meta Platforms, Inc. engages in the development of products that enable people to connect and share with friends and family through mobile devices, personal computers, virtual reality headsets, and wearables worldwide. It operates in two segments, Family of Apps and Reality Labs. The Family of Apps segment offers Facebook, which enables people to share, discuss, discover, and connect with interests; Instagram, a community for sharing photos, videos, and private messages, as well as feed, stories, reels, video, live, and shops; Messenger, a messaging application for people to connect with friends, family, communities, and businesses across platforms and devices through text, audio, and video calls; and WhatsApp, a messaging application that is used by people and businesses to communicate and transact privately. The Reality Labs segment provides augmented and virtual reality related products comprising consumer hardware, software, and content that help people feel connected, anytime, and anywhere. The company was formerly known as Facebook, Inc. and changed its name to Meta Platforms, Inc. in October 2021. The company was incorporated in 2004 and is headquartered in Menlo Park, California', 'fullTimeEmployees': 67317, 'companyOfficers': [{'maxAge': 1, 'name': 'Mr. Mark Elliot Zuckerberg', 'age': 39, 'title': 'Founder, Chairman & CEO', 'yearBorn': 1984, 'fiscalYear': 2022, 'totalPay': 27110418, 'exercisedValue': 0, 'unexercisedValue': 0}, {'maxAge': 1, 'name': 'Ms. Susan J. S. Li', 'age': 36, 'title': 'Chief Financial Officer', 'yearBorn': 1987, 'fiscalYear': 2022, 'totalPay': 4938339, 'exercisedValue': 0, 'unexercisedValue': 0}, {'maxAge': 1, 'name': 'Mr. Javier  Olivan', 'age': 46, 'title': 'Chief Operating Officer', 'yearBorn': 1977, 'fiscalYear': 2022, 'totalPay': 4138577, 'exercisedValue': 0, 'unexercisedValue': 0}, {'maxAge': 1, 'name': 'Mr. Andrew  Bosworth', 'age': 41, 'title': 'Chief Technology Officer', 'yearBorn': 1982, 'fiscalYear': 2022, 'totalPay': 1978302, 'exercisedValue': 0, 'unexercisedValue': 0}, {'maxAge': 1, 'name': 'Mr. Christopher K. Cox', 'age': 40, 'title': 'Chief Product Officer', 'yearBorn': 1983, 'fiscalYear': 2022, 'totalPay': 4080853, 'exercisedValue': 0, 'unexercisedValue': 0}, {'maxAge': 1, 'name': 'Mr. David M. Wehner', 'age': 54, 'title': 'Chief Strategy Officer', 'yearBorn': 1969, 'fiscalYear': 2022, 'totalPay': 1798399, 'exercisedValue': 0, 'unexercisedValue': 0}, {'maxAge': 1, 'name': 'Mr. Aaron A. Anderson', 'title': 'Chief Accounting Officer', 'fiscalYear': 2022, 'exercisedValue': 0, 'unexercisedValue': 0}, {'maxAge': 1, 'name': 'Mr. Atish  Banerjea', 'age': 57, 'title': 'Chief Information Officer', 'yearBorn': 1966, 'fiscalYear': 2022, 'exercisedValue': 0, 'unexercisedValue': 0}, {'maxAge': 1, 'name': 'Ms. Deborah T. Crawford', 'title': 'Vice President of Investor Relations', 'fiscalYear': 2022, 'exercisedValue': 0, 'unexercisedValue': 0}, {'maxAge': 1, 'name': 'Ms. Jennifer G. Newstead', 'age': 53, 'title': 'Chief Legal Officer', 'yearBorn': 1970, 'fiscalYear': 2022, 'totalPay': 3079624, 'exercisedValue': 0, 'unexercisedValue': 0}], 'auditRisk': 8, 'boardRisk': 10, 'compensationRisk': 10, 'shareHolderRightsRisk': 10, 'overallRisk': 10, 'governanceEpochDate': 1706745600, 'compensationAsOfEpochDate': 1672444800, 'maxAge': 86400, 'priceHint': 2, 'previousClose': 470.0, 'open': 472.95, 'dayLow': 468.1, 'dayHigh': 473.59, 'regularMarketPreviousClose': 470.0, 'regularMarketOpen': 472.95, 'regularMarketDayLow': 468.1, 'regularMarketDayHigh': 473.59, 'dividendRate': 2.0, 'dividendYield': 0.0043, 'exDividendDate': 1708473600, 'beta': 1.154, 'trailingPE': 31.706228, 'forwardPE': 20.569572, 'volume': 7037847, 'regularMarketVolume': 7037847, 'averageVolume': 18234762, 'averageVolume10days': 28939420, 'averageDailyVolume10Day': 28939420, 'bid': 473.2, 'ask': 473.32, 'bidSize': 1000, 'askSize': 1000, 'marketCap': 1200357900288, 'fiftyTwoWeekLow': 167.66, 'fiftyTwoWeekHigh': 485.96, 'priceToSalesTrailing12Months': 8.898, 'fiftyDayAverage': 367.0588, 'twoHundredDayAverage': 310.70966, 'currency': 'USD', 'enterpriseValue': 1170741395456, 'profitMargins': 0.28983, 'floatShares': 2195088784, 'sharesOutstanding': 2200049920, 'sharesShort': 26919460, 'sharesShortPriorMonth': 28407614, 'sharesShortPreviousMonthDate': 1702598400, 'dateShortInterest': 1705017600, 'sharesPercentSharesOut': 0.0105, 'heldPercentInsiders': 0.00184, 'heldPercentInstitutions': 0.79274005, 'shortRatio': 1.63, 'shortPercentOfFloat': 0.012200001, 'impliedSharesOutstanding': 2549410048, 'bookValue': 59.808, 'priceToBook': 7.8724837, 'lastFiscalYearEnd': 1703980800, 'nextFiscalYearEnd': 1735603200, 'mostRecentQuarter': 1703980800, 'earningsQuarterlyGrowth': 2.012, 'netIncomeToCommon': 39097999360, 'trailingEps': 14.85, 'forwardEps': 22.89, 'pegRatio': 0.91, 'enterpriseToRevenue': 8.678, 'enterpriseToEbitda': 19.453, '52WeekChange': 1.6988227, 'SandP52WeekChange': 0.22184551, 'exchange': 'NMS', 'quoteType': 'EQUITY', 'symbol': 'META', 'underlyingSymbol': 'META', 'shortName': 'Meta Platforms, Inc.', 'longName': 'Meta Platforms, Inc.', 'firstTradeDateEpochUtc': 1337347800, 'timeZoneFullName': 'America/New_York', 'timeZoneShortName': 'EST', 'uuid': 'e59f1c4f-b1aa-3d70-a8c3-eb59ff3e461b', 'messageBoardId': 'finmb_20765463', 'gmtOffSetMilliseconds': -18000000, 'currentPrice': 470.8375, 'targetHighPrice': 575.0, 'targetLowPrice': 245.0, 'targetMeanPrice': 490.71, 'targetMedianPrice': 520.0, 'recommendationMean': 1.9, 'recommendationKey': 'buy', 'numberOfAnalystOpinions': 52, 'totalCash': 65402998784, 'totalCashPerShare': 25.654, 'ebitda': 60183998464, 'totalDebt': 37923999744, 'quickRatio': 2.552, 'currentRatio': 2.671, 'totalRevenue': 134901997568, 'debtToEquity': 24.76, 'revenuePerShare': 52.409, 'returnOnAssets': 0.14748, 'returnOnEquity': 0.28039, 'freeCashflow': 31726000128, 'operatingCashflow': 71112998912, 'earningsGrowth': 2.002, 'revenueGrowth': 0.247, 'grossMargins': 0.80722, 'ebitdaMargins': 0.44612998, 'operatingMargins': 0.40727, 'financialCurrency': 'USD', 'trailingPegRatio': 1.0691}\n"
     ]
    }
   ],
   "source": [
    "print(GetFacebookInformation.info)"
   ]
  },
  {
   "cell_type": "code",
   "execution_count": null,
   "id": "6c853e62",
   "metadata": {},
   "outputs": [],
   "source": []
  }
 ],
 "metadata": {
  "kernelspec": {
   "display_name": "Python 3 (ipykernel)",
   "language": "python",
   "name": "python3"
  },
  "language_info": {
   "codemirror_mode": {
    "name": "ipython",
    "version": 3
   },
   "file_extension": ".py",
   "mimetype": "text/x-python",
   "name": "python",
   "nbconvert_exporter": "python",
   "pygments_lexer": "ipython3",
   "version": "3.8.12"
  }
 },
 "nbformat": 4,
 "nbformat_minor": 5
}
